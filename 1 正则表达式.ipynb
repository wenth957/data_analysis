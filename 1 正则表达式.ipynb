{
    "cells": [
        {
            "cell_type": "markdown",
            "metadata": {},
            "source": [
                "# python re的学习"
            ]
        },
        {
            "cell_type": "markdown",
            "metadata": {},
            "source": [
                "#  1.1 不使用正则表达式 \n",
                "- 191-666-1234"
            ]
        },
        {
            "cell_type": "code",
            "execution_count": null,
            "metadata": {},
            "outputs": [],
            "source": [
                "\n",
                "def isPhoneNumber(text):\n",
                "    if len(text) !=12:\n",
                "        return False\n",
                "    for i in range(0, 3):\n",
                "        if not text[i].isdecimal():\n",
                "            # 是否为十进制字符\n",
                "            return False\n",
                "    if text[3] !='-':\n",
                "        return False\n",
                "    for i in range(4,7):\n",
                "        if not text[i].isdecimal():\n",
                "            return False\n",
                "    if text[7] !='-':\n",
                "        return False\n",
                "    for i in range(8,12):\n",
                "          if not text[i].isdecimal():\n",
                "                return False\n",
                "    return  True\n",
                "    \n",
                "    \n",
                "# print(\"191-666-1234 is a phone number: \")\n",
                "# print(isPhoneNumber('191-666-1234'))\n",
                "# print(\"bilibili is a phone number :\")\n",
                "# print(isPhoneNumber('bilibili'))\n",
                "# # 在更长的字符串中查找\n",
                "# message = \"call me at 415-555-1011 tomorrow. 415-555-9999 is my office.\"\n",
                "# for i  in range(len(message)):\n",
                "#     chunk = message[i:i+12]\n",
                "#     if  isPhoneNumber(chunk):\n",
                "#         print('phone number found: ' + chunk)\n",
                "# print('Done')"
            ]
        },
        {
            "cell_type": "markdown",
            "metadata": {},
            "source": [
                "# 1.2 正则表达式\n",
                "- \\d代表0-9的数字上述电话号码可以用\\d\\d\\d-\\d\\d\\d-\\d\\d\\d\\d来表示\n",
                "- \\d{3}-\\d{3}-\\d{4} 其中{3}表示匹配三次,正则表达式是一种匹配方法，返回的是对象有属性和方法\n",
                "-  search()方法查找返回一个match对象，match对象有group方法，返回实际匹配的文本"
            ]
        },
        {
            "cell_type": "code",
            "execution_count": null,
            "metadata": {},
            "outputs": [],
            "source": [
                "\n",
                "import re\n",
                "\n",
                "phoneNumRegex = re.compile(r'\\d\\d\\d-\\d\\d\\d-\\d\\d\\d\\d')\n",
                "# r用来得到原始字符串，而转义符号\\需要在每个字符前面都加上\\比较复杂\n",
                "mo = phoneNumRegex.search('My number is 415-555-4242.')\n",
                "print(\"phone number found:\" + mo.group())"
            ]
        },
        {
            "cell_type": "markdown",
            "metadata": {},
            "source": [
                "# 总结：正则表达式步骤\n",
                "- 导入re\n",
                "- re.compile创建一个regex对象\n",
                "- 对regex使用search方法传入想要查找的字符串，返回一个match对象\n",
                "- 对match对象使用group方法，返回实际的字符串"
            ]
        },
        {
            "cell_type": "markdown",
            "metadata": {},
            "source": [
                "# 1.3  分组查找\n",
                "- 简单分组  \n",
                "- 管道匹配\n",
                "- ？* . 等符号"
            ]
        },
        {
            "cell_type": "code",
            "execution_count": null,
            "metadata": {},
            "outputs": [],
            "source": [
                "\n",
                "# groups打印所有组\n",
                "Regex = re.compile(r'(\\d\\d\\d)-(\\d\\d\\d-\\d\\d\\d\\d)')\n",
                "mo = Regex.search('my number is 123-456-8888.')\n",
                "print(mo.group(0))\n",
                "print(mo.group(1))\n",
                "print(mo.group(2))\n",
                "print(mo.groups())\n",
                "a,b = mo.groups()\n",
                "print(a)\n",
                "print(b)"
            ]
        },
        {
            "cell_type": "code",
            "execution_count": null,
            "metadata": {},
            "outputs": [],
            "source": [
                "## 文本中有括号，需要转义\n",
                "Regex1 = re.compile(r' (\\(\\d\\d\\d\\)) (\\d\\d\\d-\\d\\d\\d\\d)')\n",
                "mo = Regex1.search('my number is (123) 456-8888.')\n",
                "print(mo.group(1))\n"
            ]
        },
        {
            "cell_type": "code",
            "execution_count": null,
            "metadata": {},
            "outputs": [],
            "source": [
                "# 管道匹配出现词中的第一个\n",
                "Regex_hero = re.compile(r'Ironman|Batman')\n",
                "mo = Regex_hero.search('Ironman and Batman!')\n",
                "print(mo.group())\n",
                "mo = Regex_hero.search('Batman and Ironman!')\n",
                "print(mo.group())\n",
                "## 利用findall可以找到所有匹配\n",
                "# 利用管道匹配任意词出现的第一个（前缀相同）\n",
                "Regex_a = re.compile(r'Bat(man|mobile|copter|bat)') # （）管道匹配表示分组\n",
                "mo = Regex_a.search('Batbat and Batmobile are best!')\n",
                "print(mo.group())"
            ]
        },
        {
            "cell_type": "code",
            "execution_count": null,
            "metadata": {},
            "outputs": [],
            "source": [
                "# （group）?表示该group为可选分组\n",
                "Regex_chioce = re.compile(r'Bat(wo)?man')\n",
                "mo = Regex_chioce.search(' I am Batman')\n",
                "mo1 = Regex_chioce.search('you are Batwoman！')\n",
                "print(mo.group())\n",
                "mo1.group()"
            ]
        },
        {
            "cell_type": "code",
            "execution_count": null,
            "metadata": {},
            "outputs": [],
            "source": [
                "# （group）* 表示该group匹配0次或者多次\n",
                "Regex_new = re.compile(r'Bat(wo)*man')\n",
                "mo  = Regex_new.search('Batman is my lover!')\n",
                "print(mo.group())\n",
                "mo1 = Regex_new.search('my name is Batwowowowowoman!')\n",
                "print(mo1.group())\n",
                "mo2 = Regex_new.search('my name is Batman')\n",
                "print(mo2.group())\n",
                "# （group）+表示该group匹配1次或者多次\n",
                "# Regex_add = re.compile(r'Bat(wo)+man')\n",
                "# mo3 = Regex_add.search('my name is Batman')\n",
                "# print(mo3.group())\n",
                "# AttributeError: 'NoneType' object has no attribute 'group'"
            ]
        },
        {
            "cell_type": "code",
            "execution_count": null,
            "metadata": {},
            "outputs": [],
            "source": [
                "# {}指定匹配次数（group）{3}3次 {3，} 3次以上 {，5}5次以下\n",
                "Regex_ha = re.compile(r'(ha){3}')\n",
                "mo = Regex_ha.search('hahaha')\n",
                "print(mo.group())"
            ]
        },
        {
            "cell_type": "markdown",
            "metadata": {},
            "source": [
                "# 1.4 贪心匹配和非贪心匹配\n",
                "- python的正则表达式默认是贪心的，即匹配最长的字符串，（group）{3，5}？即可实现非贪心匹配"
            ]
        },
        {
            "cell_type": "code",
            "execution_count": null,
            "metadata": {},
            "outputs": [],
            "source": [
                "\n",
                "Regex_nogreedy = re.compile(r'(ha){3,5}?')#不加？匹配5个\n",
                "mo = Regex_nogreedy.search('hahahahahaha')\n",
                "print(mo.group())"
            ]
        },
        {
            "cell_type": "markdown",
            "metadata": {},
            "source": [
                "# 1.5 findall和search\n",
                "- findall()查找所有字符串，search()查找字符串中第一个满足条件的字符串\n",
                "- findall()返回一个列表，search()返回一个match对象；同样可以用分组匹配"
            ]
        },
        {
            "cell_type": "code",
            "execution_count": null,
            "metadata": {},
            "outputs": [],
            "source": [
                "\n",
                "Regex_phone = re.compile(r'\\d\\d\\d-\\d\\d\\d-\\d\\d\\d\\d')\n",
                "mo =  Regex_phone.search('Cell:123-456-8888 Work:123-567-9999')\n",
                "mo1 = Regex_phone.findall('Cell:123-456-8888 Work:123-567-9999')\n",
                "print(mo.group())\n",
                "print(mo1)"
            ]
        },
        {
            "cell_type": "markdown",
            "metadata": {},
            "source": [
                "# 1.6 字符分类\n",
                "- \\d 0-9 \\D除了0-9外的其他字符\n",
                "- \\w单词字符包括字母、数字、下划线  \\W单词以外字符\n",
                "- \\s 空白字符  \\S非空白字符"
            ]
        },
        {
            "cell_type": "code",
            "execution_count": null,
            "metadata": {},
            "outputs": [],
            "source": [
                "Regex_str = re.compile(r'\\d+\\s*\\w+')\n",
                "# +匹配一次或多次,字符串有多个数字和多个单词\n",
                "mo = Regex_str.findall('12 drummers, 11 pipers, 10 lords, 9 ladies,  8maids, 7swans, 6 geese,  5 rings, 4 birds, 3 hens, 2 doves, 1 partridge')\n",
                "print(mo)"
            ]
        },
        {
            "cell_type": "code",
            "execution_count": null,
            "metadata": {},
            "outputs": [],
            "source": [
                "# 建立自己的字符分类\n",
                "Regex_own = re.compile(r'[AEIOUaeiou]')\n",
                "mo = Regex_own.findall('RoboCop eats baby food. BABY FOOD!')\n",
                "print(mo)\n",
                "# [自定义字符]自定义  [^]匹配自定义之外的字符  \n",
                "Regex_own1 = re.compile(r'[^AEIOUaeiou]')\n",
                "mo1 = Regex_own1.findall('RoboCop eats baby food. BABY FOOD!')\n",
                "print(mo1)"
            ]
        },
        {
            "cell_type": "markdown",
            "metadata": {},
            "source": [
                "# 1.7 精准匹配\n",
                "- ^插入符号和$结束符号\n",
                "- 通配符."
            ]
        },
        {
            "cell_type": "code",
            "execution_count": null,
            "metadata": {},
            "outputs": [],
            "source": [
                "\n",
                "Regex1 = re.compile(r'^Hello')\n",
                "mo = Regex1.search('Hello world!')\n",
                "mo1 = Regex1.search('he said hello!')\n",
                "print(mo,'\\n',mo1)\n",
                "Regex2 = re.compile(r'^\\d+$')\n",
                "mo2 = Regex2.search('111111111x23333333')\n",
                "mo3 = Regex2.search('222213232131') # 字符串必须以数字开头数字结尾\n",
                "print(mo2,'\\n',mo3)\n",
                "Regex3 = re.compile(r'\\d+$')\n",
                "mo4  = Regex3.search('my age is 26')\n",
                "print(mo4)"
            ]
        },
        {
            "cell_type": "code",
            "execution_count": null,
            "metadata": {},
            "outputs": [],
            "source": [
                "# 通配符. 匹配除了换行符以外的所有字符,但是只匹配一个字符\n",
                "Regex_at = re.compile(r'.at')\n",
                "mo = Regex_at.findall('The cat in the hat sat on the flat mat.')\n",
                "print(mo)"
            ]
        },
        {
            "cell_type": "code",
            "execution_count": null,
            "metadata": {},
            "outputs": [],
            "source": [
                "# .* 匹配任意字符，如输入姓名和密码时\n",
                "Regex_name = re.compile(r'First name: (.*) Last name: (.*)')\n",
                "mo = Regex_name.search('First name: AI Last name: Sweigart')\n",
                "print(mo.group(1))\n",
                "print(mo.group(2))"
            ]
        },
        {
            "cell_type": "code",
            "execution_count": null,
            "metadata": {},
            "outputs": [],
            "source": [
                "# 非贪心算法的使用\n",
                "Regex_greed = re.compile(r'<.*>')\n",
                "mo = Regex_greed.search('<To serve man> for dinner>')\n",
                "print(mo.group())\n",
                "Regex_nogreed = re.compile(r'<.*?>')\n",
                "mo1 = Regex_nogreed.search('<To serve man> for dinner>')\n",
                "print(mo1.group())"
            ]
        },
        {
            "cell_type": "markdown",
            "metadata": {},
            "source": [
                "# 1.8 compile第二个参数\n",
                "- 忽略空白re.VERBOSE\n",
                "- 忽略大小写 re.I\n",
                "- 通配符换行符查找re.DOTALL"
            ]
        },
        {
            "cell_type": "code",
            "execution_count": null,
            "metadata": {},
            "outputs": [],
            "source": [
                "# 通配符. 匹配换行符需要传入参数re.DOTALL\n",
                "Regex_nonewline = re.compile(r'.*')\n",
                "mo = Regex_nonewline.findall('Serve the public trust. \\nProtect the innocent\\nUphold the law')\n",
                "print(mo)\n",
                "Regex_newline = re.compile(r'.*',re.DOTALL)\n",
                "mo1 = Regex_newline.findall('Serve the public trust. \\nProtect the innocent\\nUphold the law')\n",
                "print(mo1)"
            ]
        },
        {
            "cell_type": "code",
            "execution_count": null,
            "metadata": {},
            "outputs": [],
            "source": [
                "# 忽略大小写\n",
                "Regex_cop = re.compile(r'robocop', re.I)\n",
                "mo=Regex_cop.search('RoboCop is part man, part machine,all cop.')\n",
                "print(mo.group())\n"
            ]
        },
        {
            "cell_type": "code",
            "execution_count": null,
            "metadata": {},
            "outputs": [],
            "source": [
                "# 让正则表达式忽略空白re.VERBOSE\n",
                "Regex_group = re.compile(r'Agent (\\w)\\w*',re.VERBOSE)\n",
                "mo1 = Regex_group.sub(r'\\1****', 'A gent Alice gave the secret documents to Agent Bob')\n",
                "print(mo1)\n",
                "Regex_group = re.compile(r'Agent (\\w)\\w*',re.VERBOSE | re.I|re.DOTALL)\n",
                "# 同个参数使用不同值，按位或"
            ]
        },
        {
            "cell_type": "markdown",
            "metadata": {},
            "source": [
                "# 1.9 替代文本\n",
                "- sub"
            ]
        },
        {
            "cell_type": "code",
            "execution_count": null,
            "metadata": {},
            "outputs": [],
            "source": [
                "# sub替换匹配文本\n",
                "Regex_sub = re.compile(r'Agent \\w+')\n",
                "mo = Regex_sub.sub('CENSORED', 'Agent Alice gave the secret documents to Agent Bob')\n",
                "print(mo)\n",
                "# 用匹配的部分元素替代匹配文本如姓名首字,只需分组，然后传入\\1 \\2 \\3即可\n",
                "Regex_group = re.compile(r'Agent (\\w)\\w*')\n",
                "mo1 = Regex_group.sub(r'\\1****', 'Agent Alice gave the secret documents to Agent Bob')\n",
                "print(mo1)"
            ]
        },
        {
            "cell_type": "markdown",
            "metadata": {},
            "source": [
                "# 1.10 电话号码和邮件地址提取程序\n",
                " - 把邮件粘贴到剪贴板：手动或者程序\n",
                " - 从剪贴板取得文本： 使用pyperclip模块复制和粘贴字符串，创建两个正则表达式分别匹配电话号码和邮件地址\n",
                " - 找出文本中所有的电话号码和E-mail地址：找到所有匹配结果（不是一次性匹配）\n",
                " - 把他们粘贴到剪贴板：将匹配好的字符串整理好格式，放入一个字符串中，用于粘贴\n",
                " - 如果没有找到匹配，则提示信息"
            ]
        },
        {
            "cell_type": "code",
            "execution_count": null,
            "metadata": {},
            "outputs": [],
            "source": [
                "import pyperclip, re\n",
                "\n",
                "# 定义两个正则表达式\n",
                "phoneRegex = re.compile(r'''(    \n",
                "    (\\d{3} | \\(\\d{3}\\))?\n",
                "    (\\s | - | \\ .)?  # 空格、-或.号\n",
                "    (\\d{3})  \n",
                "    (\\s | - | \\ .)\n",
                "    (\\d{4})\n",
                "     (\\s*(ext|x|ext.)\\s*(\\d{2,5}))? # 可选的分机号,这里是三个组第8个组是分机号\n",
                "     )''', re.VERBOSE)\n",
                "# 先返回最大括号的分组然后一次返回共9个元素\n",
                "\n",
                "emailRegex = re.compile(r'''(\n",
                "    [a-zA-Z0-9._%+-]+  # 用户名\n",
                "    @\n",
                "    [a-zA-Z0-9.-]+         # 域名\n",
                "    (\\.[a-zA-Z]{2,4})       # .com .cn等\n",
                ")''' , re.VERBOSE)"
            ]
        },
        {
            "cell_type": "code",
            "execution_count": null,
            "metadata": {},
            "outputs": [],
            "source": [
                "# 继续匹配\n",
                "text = str(pyperclip.paste())\n",
                "matches = []\n",
                "for groups in phoneRegex.findall(text):\n",
                "    print(groups)\n",
                "    phoneNum = '-'.join([groups[1],groups[3],groups[5]])\n",
                "    if groups[8] !=' ':\n",
                "        phoneNum+= ' x'+groups[8]\n",
                "    matches.append(groups[0])\n",
                "for groups in emailRegex.findall(text):\n",
                "    matches.append(groups[0])"
            ]
        },
        {
            "cell_type": "code",
            "execution_count": null,
            "metadata": {},
            "outputs": [],
            "source": [
                "# 拼接成一个字符串，复制到剪切板\n",
                "if  len(matches) >0:\n",
                "    pyperclip.copy('\\n'.join(matches))\n",
                "    print('Copied to clipboard: ')\n",
                "    print('\\n'.join(matches))\n",
                "else:\n",
                "    print('No phone numbers or email address found')"
            ]
        }
    ],
    "metadata": {
        "interpreter": {
            "hash": "5295b45a0e8790bca0e20e331194e787a5454a2e11a4ea4ad67f12acbbb18b60"
        },
        "kernelspec": {
            "display_name": "Python 3.7.12 ('venv_torch')",
            "language": "python",
            "name": "python3"
        },
        "language_info": {
            "codemirror_mode": {
                "name": "ipython",
                "version": 3
            },
            "file_extension": ".py",
            "mimetype": "text/x-python",
            "name": "python",
            "nbconvert_exporter": "python",
            "pygments_lexer": "ipython3",
            "version": "3.7.12"
        },
        "orig_nbformat": 4
    },
    "nbformat": 4,
    "nbformat_minor": 2
}
