{
 "cells": [
  {
   "cell_type": "markdown",
   "metadata": {},
   "source": [
    "# 2.1 文件路径\n",
    "\n",
    "- os模块\n",
    "- 工作空间\n",
    "- 不同系统不同路径格式\n",
    "- 绝对路径、相对路径\n",
    "- 创建新的文件夹\n",
    "- os.path\n",
    "  - 路径转换\n",
    "  - 文件类型与大小\n",
    "  - 文件是否存在"
   ]
  },
  {
   "cell_type": "code",
   "execution_count": 4,
   "metadata": {},
   "outputs": [
    {
     "name": "stdout",
     "output_type": "stream",
     "text": [
      "e:\\machine_learning\\data_analysis\n"
     ]
    }
   ],
   "source": [
    "# 工作目录\n",
    "import os \n",
    "\n",
    "path = os.getcwd()\n",
    "print(path)"
   ]
  },
  {
   "cell_type": "code",
   "execution_count": 5,
   "metadata": {},
   "outputs": [
    {
     "name": "stdout",
     "output_type": "stream",
     "text": [
      "e:\\machine_learning\\data_analysis\\正则表达式.inynb\n"
     ]
    }
   ],
   "source": [
    "# 改变工作路径\n",
    "os.chdir('e:\\machine_learning\\data_analysis')\n",
    "# 连接路径\n",
    "path1 = os.path.join(path,'正则表达式.inynb')\n",
    "# 获得电脑上的路径格式\n",
    "print(path1)"
   ]
  },
  {
   "cell_type": "code",
   "execution_count": 10,
   "metadata": {},
   "outputs": [
    {
     "name": "stdout",
     "output_type": "stream",
     "text": [
      "[WinError 183] 当文件已存在时，无法创建该文件。: './exercise'\n"
     ]
    }
   ],
   "source": [
    "# 创建文件夹\n",
    "# 绝对路径 d:\\\\vs_code_python\\\\days_100\\\\res\n",
    "# 相对路径 ../ 上一级 ./同级 \n",
    "try:\n",
    "    os.makedirs('./exercise')\n",
    "except FileExistsError as e:\n",
    "    print(e)"
   ]
  },
  {
   "cell_type": "code",
   "execution_count": 13,
   "metadata": {},
   "outputs": [
    {
     "name": "stdout",
     "output_type": "stream",
     "text": [
      "e:\\machine_learning\\data_analysis\n",
      "e:\\machine_learning\\data_analysis\\正则表达式.inynb\n",
      "False\n"
     ]
    },
    {
     "data": {
      "text/plain": [
       "'..\\\\正则表达式.inynb'"
      ]
     },
     "execution_count": 13,
     "metadata": {},
     "output_type": "execute_result"
    }
   ],
   "source": [
    "# os.path模块\n",
    "# 相对路径和绝对路径的转换\n",
    "print(os.path.abspath('.'))\n",
    "print(os.path.abspath(path1))\n",
    "print(os.path.isabs('./'))\n",
    "# 返回相对路径，第一个参数是文件绝对路径,第二个参数是当前所在目录\n",
    "os.path.relpath('e:\\machine_learning\\data_analysis\\正则表达式.inynb','data_analysis')"
   ]
  },
  {
   "cell_type": "code",
   "execution_count": 15,
   "metadata": {},
   "outputs": [
    {
     "data": {
      "text/plain": [
       "'e:\\\\machine_learning\\\\data_analysis'"
      ]
     },
     "execution_count": 15,
     "metadata": {},
     "output_type": "execute_result"
    }
   ],
   "source": [
    "path"
   ]
  },
  {
   "cell_type": "code",
   "execution_count": 17,
   "metadata": {},
   "outputs": [
    {
     "name": "stdout",
     "output_type": "stream",
     "text": [
      "正则表达式.inynb\n",
      "e:\\machine_learning\\data_analysis\n",
      "18881\n",
      "['.git', '1 正则表达式.ipynb', '2 文件读写.ipynb', '3 面向对象编程.ipynb', '4 使用numpy.ipynb', '5 使用pandas.ipynb', '6 精通特征工程.ipynb', 'exercise', 'README.md']\n",
      "113095\n",
      "True\n",
      "True\n",
      "True\n"
     ]
    }
   ],
   "source": [
    "# 名字basename和dirname\n",
    "print(os.path.basename(path1))#文件名\n",
    "print(os.path.dirname(path1))#文件夹名\n",
    "# 文件大小\n",
    "print(os.path.getsize(os.path.join(path,'1 正则表达式.ipynb')))\n",
    "print(os.listdir(path)) # 当前文件夹下的所有文件\n",
    "totalsize = 0\n",
    "for filename in os.listdir(path):\n",
    "    totalsize+= os.path.getsize(os.path.join(path,filename))\n",
    "print(totalsize)\n",
    "# 该文件夹的字符数\n",
    "# 检验路径的有效性\n",
    "print(os.path.exists(path))\n",
    "print(os.path.isdir(path))\n",
    "print(os.path.isfile(os.path.join(path,'1 正则表达式.ipynb')))"
   ]
  },
  {
   "cell_type": "markdown",
   "metadata": {},
   "source": [
    "# 2.2读写文件\n",
    "- 基础知识\n",
    "  - 文本文件\n",
    "  - 二进制文件：颜色、excel等\n",
    "- 读取文件\n",
    "-写入文件"
   ]
  },
  {
   "cell_type": "code",
   "execution_count": null,
   "metadata": {},
   "outputs": [],
   "source": [
    "# 读取文件：open readlines close\n",
    "fileA = open(os.path.join(path,'hello.txt'))\n",
    "content = fileA.readlines()\n",
    "print(content)\n",
    "fileA.close() "
   ]
  },
  {
   "cell_type": "code",
   "execution_count": null,
   "metadata": {},
   "outputs": [],
   "source": [
    "# 写入文件 覆写\n",
    "fileB= open(os.path.join(path,'write.txt'),'w')\n",
    "fileB.write('you are stupid!\\n')\n",
    "# 与print自带换行符不同，写入文件要自己编写换行符\n",
    "fileB.close()"
   ]
  },
  {
   "cell_type": "code",
   "execution_count": null,
   "metadata": {},
   "outputs": [],
   "source": [
    "# 写入文件 添加\n",
    "fileC = open(os.path.join(path,'write.txt'),'a')\n",
    "fileC.write('foolish\\n')\n",
    "fileC.write('shut up!\\n')\n",
    "fileC.close()"
   ]
  },
  {
   "cell_type": "markdown",
   "metadata": {},
   "source": [
    "# 2.3 常用保存字典的模块 \n",
    "\n",
    " - shelve模块：常用，保存变量为shelve类字典\n",
    " - pprint模块：保存字典列表为模块"
   ]
  },
  {
   "cell_type": "code",
   "execution_count": 18,
   "metadata": {},
   "outputs": [],
   "source": [
    "import shelve\n",
    "shelfFile = shelve.open('mycats')\n",
    "cats = ['zhao','qian','sun','li']\n",
    "shelfFile['cats'] = cats\n",
    "shelfFile.close()\n",
    "# 类似一个字典，存储所有变量"
   ]
  },
  {
   "cell_type": "code",
   "execution_count": 19,
   "metadata": {},
   "outputs": [
    {
     "name": "stdout",
     "output_type": "stream",
     "text": [
      "<class 'shelve.DbfilenameShelf'>\n",
      "['zhao', 'qian', 'sun', 'li']\n",
      "KeysView(<shelve.DbfilenameShelf object at 0x000001C429D39988>)\n",
      "ValuesView(<shelve.DbfilenameShelf object at 0x000001C429D39988>)\n",
      "['cats']\n",
      "[['zhao', 'qian', 'sun', 'li']]\n"
     ]
    }
   ],
   "source": [
    "shelfFile = shelve.open('mycats')\n",
    "print(type(shelfFile))\n",
    "print(shelfFile['cats'])\n",
    "print(shelfFile.keys())\n",
    "print(shelfFile.values())\n",
    "print(list(shelfFile.keys()))\n",
    "print(list(shelfFile.values()))"
   ]
  },
  {
   "cell_type": "code",
   "execution_count": 20,
   "metadata": {},
   "outputs": [],
   "source": [
    "import pprint\n",
    "\n",
    "cats = [{\n",
    "    'name':'zhao',\n",
    "     'age':'1'},\n",
    "     {'name':'qian',\n",
    "     'age':'2'}]\n",
    "pprint.pformat(cats)\n",
    "#  美化字典输出\n",
    "fileD=open('mycats.py','w')\n",
    "fileD.write('cats = ' + pprint.pformat(cats) + '\\n')\n",
    "fileD.close()"
   ]
  }
 ],
 "metadata": {
  "interpreter": {
   "hash": "5295b45a0e8790bca0e20e331194e787a5454a2e11a4ea4ad67f12acbbb18b60"
  },
  "kernelspec": {
   "display_name": "Python 3.7.12 ('venv_torch')",
   "language": "python",
   "name": "python3"
  },
  "language_info": {
   "codemirror_mode": {
    "name": "ipython",
    "version": 3
   },
   "file_extension": ".py",
   "mimetype": "text/x-python",
   "name": "python",
   "nbconvert_exporter": "python",
   "pygments_lexer": "ipython3",
   "version": "3.7.12"
  },
  "orig_nbformat": 4
 },
 "nbformat": 4,
 "nbformat_minor": 2
}
