{
 "cells": [
  {
   "cell_type": "markdown",
   "metadata": {},
   "source": [
    "# 2.1文件路径\n",
    "- os模块\n",
    "- 工作空间\n",
    "- 不同系统不同路径格式\n",
    "- 绝对路径、相对路径\n",
    "- 创建新的文件夹\n",
    "- os.path\n",
    "  - 路径转换\n",
    "  - 文件类型与大小\n",
    "  - 文件是否存在"
   ]
  },
  {
   "cell_type": "code",
   "execution_count": null,
   "metadata": {},
   "outputs": [],
   "source": [
    "import os \n",
    "\n",
    "path = os.getcwd()\n",
    "# 改变工作路径\n",
    "os.chdir('d:\\\\vs_code_python\\\\days_100\\\\res')\n",
    "# 连接路径\n",
    "path1 = os.path.join(path,'正则表达式.inynb')\n",
    "# 获得电脑上的路径格式\n",
    "print(path1)\n",
    "# 绝对路径 d:\\\\vs_code_python\\\\days_100\\\\res\n",
    "# 相对路径 ../ 上一级 ./同级 \n",
    "# 创建文件夹\n",
    "# os.makedirs('../exercise')"
   ]
  },
  {
   "cell_type": "code",
   "execution_count": null,
   "metadata": {},
   "outputs": [],
   "source": [
    "# os.path模块\n",
    "# 相对路径和绝对路径的转换\n",
    "os.path.abspath('.')\n",
    "os.path.abspath(path1)\n",
    "os.path.isabs('./')\n",
    "os.path.relpath('d:\\\\vs_code_python\\\\days_100\\\\exercise\\\\day_1.py',path1)"
   ]
  },
  {
   "cell_type": "code",
   "execution_count": null,
   "metadata": {},
   "outputs": [],
   "source": [
    "\n",
    "# 名字basename和dirname\n",
    "print(os.path.basename(path1))\n",
    "print(os.path.dirname(path1))\n",
    "# 文件大小\n",
    "print(os.path.getsize(os.path.join(path,'正则表达式.ipynb')))\n",
    "print(os.listdir(path))\n",
    "totalsize = 0\n",
    "for filename in os.listdir(path):\n",
    "    totalsize+= os.path.getsize(os.path.join(path,filename))\n",
    "print(totalsize)\n",
    "# 该文件夹的字符数\n",
    "# 检验路径的有效性\n",
    "print(os.path.exists(path))\n",
    "print(os.path.isdir(path))\n",
    "print(os.path.isfile(os.path.join(path,'正则表达式.ipynb')))"
   ]
  },
  {
   "cell_type": "markdown",
   "metadata": {},
   "source": [
    "# 2.2读写文件\n",
    "- 基础知识\n",
    "  - 文本文件\n",
    "  - 二进制文件：颜色、excel等\n",
    "- 读取文件\n",
    "-写入文件"
   ]
  },
  {
   "cell_type": "code",
   "execution_count": null,
   "metadata": {},
   "outputs": [],
   "source": [
    "# 读取文件：open readlines close\n",
    "fileA = open(os.path.join(path,'hello.txt'))\n",
    "content = fileA.readlines()\n",
    "print(content)\n",
    "fileA.close() "
   ]
  },
  {
   "cell_type": "code",
   "execution_count": null,
   "metadata": {},
   "outputs": [],
   "source": [
    "# 写入文件 覆写\n",
    "fileB= open(os.path.join(path,'write.txt'),'w')\n",
    "fileB.write('you are stupid!\\n')\n",
    "# 与print自带换行符不同，写入文件要自己编写换行符\n",
    "fileB.close()"
   ]
  },
  {
   "cell_type": "code",
   "execution_count": null,
   "metadata": {},
   "outputs": [],
   "source": [
    "# 写入文件 添加\n",
    "fileC = open(os.path.join(path,'write.txt'),'a')\n",
    "fileC.write('foolish\\n')\n",
    "fileC.write('shut up!\\n')\n",
    "fileC.close()"
   ]
  },
  {
   "cell_type": "markdown",
   "metadata": {},
   "source": [
    "# 2.3 shelve模块：常用\n",
    " - 保存变量为shelve类字典"
   ]
  },
  {
   "cell_type": "code",
   "execution_count": null,
   "metadata": {},
   "outputs": [],
   "source": [
    "import shelve\n",
    "shelfFile = shelve.open('mycats')\n",
    "cats = ['zhao','qian','sun','li']\n",
    "shelfFile['cats'] = cats\n",
    "shelfFile.close()\n",
    "# 类似一个字典，存储所有变量"
   ]
  },
  {
   "cell_type": "code",
   "execution_count": null,
   "metadata": {},
   "outputs": [],
   "source": [
    "shelfFile = shelve.open('mycats')\n",
    "print(type(shelfFile))\n",
    "print(shelfFile['cats'])\n",
    "print(shelfFile.keys())\n",
    "print(shelfFile.values())\n",
    "print(list(shelfFile.keys()))\n",
    "print(list(shelfFile.values()))"
   ]
  },
  {
   "cell_type": "markdown",
   "metadata": {},
   "source": [
    "# 2.4 pprint模块：简单数据类型\n",
    "  - 保存字典列表为模块"
   ]
  },
  {
   "cell_type": "code",
   "execution_count": null,
   "metadata": {},
   "outputs": [],
   "source": [
    "import pprint\n",
    "\n",
    "cats = [{\n",
    "    'name':'zhao',\n",
    "     'age':'1'},\n",
    "     {'name':'qian',\n",
    "     'age':'2'}]\n",
    "pprint.pformat(cats)\n",
    "#  美化字典输出\n",
    "fileD=open('mycats.py','w')\n",
    "fileD.write('cats = ' + pprint.pformat(cats) + '\\n')\n",
    "fileD.close()"
   ]
  },
  {
   "cell_type": "markdown",
   "metadata": {},
   "source": [
    "# 2.5 项目实战\n",
    "- 编写试卷\n",
    "  - 将洲及其首府保存到一个字典中\n",
    "  - 根据字典构造50个问题和35份不同的答案，35份不同的试卷，各有35个文件：循环\n",
    "  - 问题顺序随机，对每50个问题构造随机答案，正确选项+三个错误选项（随机），选出后再shuffle一次\n",
    "  - 将问题和答案写入试卷文件同时生成每份试卷的正确答案\n",
    "- 多重剪切板"
   ]
  },
  {
   "cell_type": "code",
   "execution_count": null,
   "metadata": {},
   "outputs": [],
   "source": [
    "# 编写试卷.\n",
    "import random\n",
    "# 生成一个字典\n",
    "capitals = {\n",
    "    'Alabama': 'Montgomery', 'Alaska': 'Juneau', 'Arizona': 'Phoenix', 'Arkansas': 'Little Rock', 'California': 'Sacramento', 'Colorado': 'Denver', 'Connecticut': 'Hartford', 'Delaware': 'Dover', 'Florida': 'Tallahassee', 'Georgia': 'Atlanta', 'Hawaii': 'Honolulu', 'Idaho': 'Boise', 'Illinois': 'Springfield', 'Indiana': 'Indianapolis', 'Iowa': 'Des Moines', 'Kansas': 'Topeka', 'Kentucky': 'Frankfort', 'Louisiana': 'Baton Rouge', 'Maine': 'Augusta', 'Maryland': 'Annapolis', 'Massachusetts': 'Boston', 'Michigan': 'Lansing', 'Minnesota': 'Saint Paul', 'Mississippi': 'Jackson', 'Missouri': 'Jefferson City', 'Montana': 'Helena', 'Nebraska': 'Lincoln', 'Nevada': 'Carson City', 'New Hampshire': 'Concord', 'New Jersey': 'Trenton', 'New Mexico': 'Santa Fe', 'New York': 'Albany', 'North Carolina': 'Raleigh', 'North Dakota': 'Bismarck', 'Ohio': 'Columbus', 'Oklahoma': 'Oklahoma City', 'Oregon': 'Salem', 'Pennsylvania': 'Harrisburg', 'Rhode Island': 'Providence', 'South Carolina': 'Columbia', 'South Dakota': 'Pierre', 'Tennessee': 'Nashville', 'Texas': 'Austin', 'Utah': 'Salt Lake City', 'Vermont': 'Montpelier', 'Virginia': 'Richmond', 'Washington': 'Olympia', 'West Virginia': 'Charleston', 'Wisconsin': 'Madison', 'Wyoming': 'Cheyenne'}\n",
    "# 生成测试试卷文件和答案文件\n",
    "for quizNum in range(35): \n",
    "    quizFile = open('capitalsquiz%s.txt' % (quizNum + 1), 'a')\n",
    "    answerFile = open('capitalsquiz_answers%s.txt' % (quizNum + 1), 'a')\n",
    "\n",
    "    # 写入试卷标头\n",
    "    quizFile.write('Name:\\n\\nDate:\\n\\nPeriod:\\n\\n')\n",
    "    quizFile.write((' ' * 20) + 'State Capitals Quiz (Form %s)' % (quizNum + 1))\n",
    "    quizFile.write('\\n\\n')\n",
    "\n",
    "    # 随机处理洲名\n",
    "    states = list(capitals.keys())\n",
    "    random.shuffle(states) \n",
    "\n",
    "    # 生成问题\n",
    "    for questionNum in range(50):\n",
    "        correctAnswer = capitals[states[questionNum]]  # 每个问题生成四个答案\n",
    "        wrongAnswers = list(capitals.values())  # 排除正确答案后筛选3个\n",
    "        del wrongAnswers[wrongAnswers.index(correctAnswer)] \n",
    "        wrongAnswers = random.sample(wrongAnswers, 3) \n",
    "        answerOptions = wrongAnswers + [correctAnswer] # 得到所有选项并且随机排序\n",
    "        random.shuffle(answerOptions) \n",
    "        # 写入试卷文件\n",
    "        quizFile.write('%s. What is the capital of %s?\\n' % (questionNum + 1, states[questionNum]))\n",
    "        for i in range(4):\n",
    "            quizFile.write('%s. %s\\n' % ('ABCD'[i], answerOptions[i]))\n",
    "        quizFile.write('\\n')\n",
    "        # 写入答案文件\n",
    "        answerFile.write('%s. %s\\n' % (questionNum + 1, 'ABCD'[answerOptions.index(correctAnswer)]))\n",
    "    quizFile.close()\n",
    "    answerFile.close()"
   ]
  },
  {
   "cell_type": "code",
   "execution_count": null,
   "metadata": {},
   "outputs": [],
   "source": [
    "# mcb.pyw 保存和加载文本到剪切板\n",
    "# 用法：py.exe mcb.pyw save argv[1] <keyword>argv[2] 保存剪贴板内容到某个关键字\n",
    "# 用法：py.exe mcb.pyw  <keyword>argv[1]  将某个关键字粘贴到剪贴板\n",
    "# 用法：py.exe mcb.pyw  list argv[1] 所有关键字到剪贴板\n",
    "# sys读取命令行参数\n",
    "import sys,shelve,pyperclip\n",
    "\n",
    "mcbshelf = shelve.open('mcb')\n",
    "if  len(sys.argv) == 3 and sys.argv[1].lower() == 'save':\n",
    "    mcbshelf[sys.argv[2]] = pyperclip.paste()\n",
    "elif len(sys.argv) == 2:\n",
    "    if sys.argv[1].lower() == 'list':\n",
    "        pyperclip.copy(str(list(mcbshelf.keys())))  # 所有关键字被粘贴到剪贴板\n",
    "    elif sys.argv[1] in mcbshelf:   \n",
    "        pyperclip.copy(mcbshelf[sys.argv[1]]) # 如果是关键字，则粘贴到剪贴板\n",
    "# 列出关键字和加载内容\n",
    "mcbshelf.close()\n"
   ]
  },
  {
   "cell_type": "markdown",
   "metadata": {},
   "source": [
    "铭志,囚封天之道,众生需渡无量劫,离开深狱一执念,奉至修真行 铭志,众生亦于无量前,解今...\n",
    "小兄弟,我看你天庭饱满。紫光透体绝非凡人啊!可惜若无人指点。怕此生婴变无望望\n",
    "有一种人,天生就是为了战而生;天生就是为了杀戮而存在,天生就是为了逆天而行。王林就是这样"
   ]
  }
 ],
 "metadata": {
  "interpreter": {
   "hash": "5295b45a0e8790bca0e20e331194e787a5454a2e11a4ea4ad67f12acbbb18b60"
  },
  "kernelspec": {
   "display_name": "Python 3.7.12 ('venv_torch')",
   "language": "python",
   "name": "python3"
  },
  "language_info": {
   "codemirror_mode": {
    "name": "ipython",
    "version": 3
   },
   "file_extension": ".py",
   "mimetype": "text/x-python",
   "name": "python",
   "nbconvert_exporter": "python",
   "pygments_lexer": "ipython3",
   "version": "3.7.12"
  },
  "orig_nbformat": 4
 },
 "nbformat": 4,
 "nbformat_minor": 2
}
