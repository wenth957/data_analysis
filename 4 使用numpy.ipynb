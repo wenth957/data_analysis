{
 "cells": [
  {
   "cell_type": "markdown",
   "metadata": {},
   "source": [
    "@[toc](numpy的学习)"
   ]
  },
  {
   "cell_type": "code",
   "execution_count": null,
   "metadata": {},
   "outputs": [],
   "source": [
    "import numpy as np\n",
    "import matplotlib.pyplot as plt \n",
    "import pandas as pd\n",
    "import seaborn as sns\n",
    "import statsmodels as sm "
   ]
  },
  {
   "cell_type": "markdown",
   "metadata": {},
   "source": [
    "# 4.1 notebook的使用"
   ]
  },
  {
   "cell_type": "code",
   "execution_count": null,
   "metadata": {},
   "outputs": [],
   "source": [
    "# tab代码补全\n",
    "#  帮助功能？\n",
    "a = [1,2,3]\n",
    "\n",
    "def  add_sum(list,sum=0):\n",
    "    '''求和函数'''\n",
    "    for num in list:\n",
    "        sum+=num\n",
    "    return sum\n",
    "# add_sum?  显示函数注释\n",
    "# add_sum??    显示源码\n",
    "# %run clip.pyw 运行模块\n",
    "# %load clip.bat 打开脚本\n",
    "# ctrl-C中断运行"
   ]
  },
  {
   "cell_type": "markdown",
   "metadata": {},
   "source": [
    "# 4.2 numpy基础知识"
   ]
  },
  {
   "cell_type": "code",
   "execution_count": null,
   "metadata": {},
   "outputs": [],
   "source": [
    "# numpy数组和python数组的区别\n",
    "my_arr = np.arange(1000000)\n",
    "my_list = list(range(1000000))"
   ]
  },
  {
   "cell_type": "code",
   "execution_count": null,
   "metadata": {},
   "outputs": [],
   "source": [
    "# numpy 运行时间短\n",
    "for _ in range(100):\n",
    "    my_arr2 = my_arr*2"
   ]
  },
  {
   "cell_type": "code",
   "execution_count": null,
   "metadata": {},
   "outputs": [],
   "source": [
    "for _ in range(100):\n",
    "    mylist2 = [x*2 for x in my_list]"
   ]
  },
  {
   "cell_type": "code",
   "execution_count": null,
   "metadata": {},
   "outputs": [],
   "source": [
    "# numpy的基本计算和标量相同\n",
    "data = np.random.randn(2,3)\n",
    "# 直接生成数组\n",
    "print(data)\n",
    "print(data*10)\n",
    "print(data+data)\n",
    "print(data.shape)\n",
    "print(data.dtype)\n",
    "# arange是range的数组版本\n",
    "np.arange(15)"
   ]
  },
  {
   "cell_type": "code",
   "execution_count": null,
   "metadata": {},
   "outputs": [],
   "source": [
    "# numpy数组即 ndarray数组的创建：array函数\n",
    "# 一维序列对应一维数组，多维序列对应多维数组\n",
    "series1 = [1,2,3,5,6,7]\n",
    "arr1 = np.array(series1)\n",
    "print(arr1)\n",
    "series2 = [[1,2,3,4],[5,6,7,8]]\n",
    "arr2 = np.array(series2)  # 同结构转换成多维数组，不同结构是list的一维数组\n",
    "print(arr2)\n",
    "print(arr2.ndim) # 根据series数据演化\n",
    "print(arr2.shape)\n",
    "print(arr2.dtype)"
   ]
  },
  {
   "cell_type": "code",
   "execution_count": null,
   "metadata": {},
   "outputs": [],
   "source": [
    "# zeros ones empty函数创建多维数组 传入元组作为参数即可\n",
    "# eye单位阵 full填充\n",
    "arr3 = np.zeros(10)\n",
    "arr4 = np.zeros((2,3)) # zeros_like以另一个数组为参照复制0\n",
    "arr5 = np.ones((3,5))   # ones_like以另一个数组为参照复制1\n",
    "arr6 = np.empty((2,3,3))  # 第一个参数是矩阵个数，通常是看不到的一面\n",
    "print(arr3)\n",
    "print(arr4)\n",
    "print(arr5)\n",
    "print(arr6)"
   ]
  },
  {
   "cell_type": "code",
   "execution_count": null,
   "metadata": {},
   "outputs": [],
   "source": [
    "# 转换数组元素的类型\n",
    "# 整数和浮点数互换\n",
    "arr = np.array([1,2,3,4,5])\n",
    "print(arr.dtype)\n",
    "arr1 = arr.astype(np.float64)\n",
    "print(arr1.dtype)\n",
    "arr2 = arr1.astype(np.int32)\n",
    "print(arr2.dtype)\n",
    "# 数字字符串转换为数字\n",
    "# arr = np.array(['1','2','3','4','ren'])\n",
    "# ValueError: could not convert string to float: 'ren'\n",
    "arr = np.array(['1','2','3','4','5'])\n",
    "print(arr.dtype)\n",
    "print(arr.astype('float64').dtype)\n",
    "print(arr)\n",
    "print(arr.astype('float64'))\n",
    "# 不仅可以指定数据类型，还可以使用别的数据类型\n",
    "arr1 = np.arange(10)\n",
    "print(arr1.dtype)\n",
    "arr2 = np.array([1.0,2.0,3.0,4.0,5.0])\n",
    "print(arr2.dtype)\n",
    "arr3 = arr1.astype(arr2.dtype)\n",
    "print(arr3.dtype)\n",
    "arr4 = arr3.astype('u4')\n",
    "print(arr4)"
   ]
  },
  {
   "cell_type": "code",
   "execution_count": null,
   "metadata": {},
   "outputs": [],
   "source": [
    "# numpy 数组的运算:作用在元素上\n",
    "arr = np.array([[1,2,3],[4,5,6]])\n",
    "print(arr)\n",
    "arr1 = 1/arr\n",
    "print(arr1)\n",
    "arr2 = arr*arr\n",
    "print(arr2)\n",
    "arrsqrt = arr**0.5\n",
    "print(arrsqrt)\n",
    "arr2> arr"
   ]
  },
  {
   "cell_type": "markdown",
   "metadata": {},
   "source": [
    "# 4.3 numpy的索引和切片"
   ]
  },
  {
   "cell_type": "code",
   "execution_count": null,
   "metadata": {},
   "outputs": [],
   "source": [
    "# 数组的索引和切片\n",
    "# 一维数组\n",
    "arr = np.arange(10)\n",
    "print(arr)\n",
    "arr[4]\n",
    "arr[5:8]\n",
    "arr[5:8] = 12 # 对切片赋值标量，会扩散到其他选取\n",
    "print(arr)\n",
    "slice_arr = arr[5:8]\n",
    "slice_arr[1] = 10\n",
    "print(arr)   # 即使对新的变量操作也会反映在原始数组上，不会复制数组数据占用新的内存\n",
    "slice_arr[:] = 10\n",
    "print(arr) # : 针对所有值\n",
    "slice_arr = arr[5:8].copy()\n",
    "slice_arr[:] = 111\n",
    "print(arr) # copy副本后原数组没有发生变化\n",
    "# 二维数组索引: axis = 0 是行 axis=1 是列\n",
    "arr = np.array([[1,2,3],[4,5,6],[7,8,9]])\n",
    "print(arr)\n",
    "print(arr[0,1])\n",
    "# 三维度数组的赋值和索引\n",
    "arr3d  = np.array([[[1,2,3],[4,5,6]],[[7,8,9],[10,11,12]]])\n",
    "print(arr3d)\n",
    "print(arr3d[0])\n",
    "print(arr3d[1])\n",
    "# 可以标量赋值也可以数组赋值\n",
    "slice_arr3d = arr3d[0].copy()\n",
    "arr3d[0] = 23\n",
    "print(arr3d)\n",
    "arr3d[0] = slice_arr3d\n",
    "print(arr3d)\n",
    "# 索引\n",
    "print(arr3d[0,1,2])"
   ]
  },
  {
   "cell_type": "code",
   "execution_count": null,
   "metadata": {},
   "outputs": [],
   "source": [
    "# 切片\n",
    "# 二维数组\n",
    "arr2d = np.array([[1,2,3],[4,5,6],[7,8,9]])\n",
    "print(arr2d[:2]) # 默认按行索引\n",
    "print(arr2d[:2,1:]) # 前两行，后两列，从0开始，：2 类似range(1:2) 2不会进行索引\n",
    "print(arr2d[1,:2])\n",
    "print(arr2d[:,:2]) # :表示选取整个轴\n",
    "arr2d[:2, 1:] = 0\n",
    "print(arr2d)"
   ]
  },
  {
   "cell_type": "code",
   "execution_count": null,
   "metadata": {},
   "outputs": [],
   "source": [
    "# 布尔值索引\n",
    "names = np.array(['zhao','qian','sun','li','fen','chen','chu','wei'])\n",
    "# 对应 0 1 2 3 4 5 6 7  原本是对对对对对对对对\n",
    "# 根据布尔值判断索引哪个\n",
    "data = np.random.randn(8,4)\n",
    "print(names)\n",
    "print(data)\n",
    "names == 'sun'\n",
    "print('\\n')\n",
    "print(data[names=='sun'])\n",
    "print(data[names=='sun',:2])\n",
    "print(data[names!='sun',:2])\n",
    "print('\\n')\n",
    "cond = names=='sun'\n",
    "print(data[~cond,:2])\n",
    "print(data[(names=='sun')|(names=='zhao'),:2])\n",
    "# 布尔值赋值\n",
    "data[data<0] = 0\n",
    "print(data)\n",
    "data[names!='sun'] = 100\n",
    "print(data)"
   ]
  },
  {
   "cell_type": "code",
   "execution_count": null,
   "metadata": {},
   "outputs": [],
   "source": [
    "# 花式索引\n",
    "# 利用数组来进行索引\n",
    "arr = np.empty((8,4))\n",
    "for i in range(8):\n",
    "    arr[i] = i\n",
    "print(arr[[2,3,1,5]])\n",
    "print(arr[[-1,-2,-3]]) # 从末尾开始\n",
    "print(arr[[1,2,3,4],[0,1,2,3]]) # 返回1,0  2,1 3,2 4,3 一个元组 \n",
    "print(arr[[1,2,3,4]][:,[0,1,2,3]]) # 只能传入一个数组索引，然后对其进行数组操作得到矩阵块"
   ]
  },
  {
   "cell_type": "markdown",
   "metadata": {},
   "source": [
    "# 4.4 numpy的基本运算\n",
    "- 转置：.T transpose() swapaxes()\n",
    "- 元素级别的运算：根号、指数、maximum"
   ]
  },
  {
   "cell_type": "code",
   "execution_count": null,
   "metadata": {},
   "outputs": [],
   "source": [
    "# 数组转置和轴的对换\n",
    "arr = np.arange(15).reshape((3,5))\n",
    "print(arr)\n",
    "print(arr.T)\n",
    "# 矩阵内积即矩阵乘法\n",
    "print(np.dot(arr.T,arr))\n",
    "# 对于高维数组，需要一个由轴编号组成的元组才能对这些轴进行转置\n",
    "arr = np.arange(16).reshape((2,2,4))\n",
    "print(arr)\n",
    "print(arr.transpose((1,0,2)))   # 正常（0，1，2）\n",
    "# 转置第一个轴和第二个轴，第三个轴不变，三维图形上对侧面矩阵进行转置\n",
    "# [0][1]与[1][0]互换位置\n",
    "# swapaxes方法 也是对轴进行转置 \n",
    "print(arr.swapaxes(1,2))"
   ]
  },
  {
   "cell_type": "code",
   "execution_count": null,
   "metadata": {},
   "outputs": [],
   "source": [
    "# 元素级别的数组函数\n",
    "arr = np.arange(10)\n",
    "print(np.sqrt(arr))\n",
    "print(np.exp(arr))\n",
    "x = np.random.randn(8)\n",
    "y = np.random.randn(8)\n",
    "np.maximum(x,y)\n",
    "# modf是divmod的矢量化版本，返回浮点数的整数和小数部分\n",
    "arr = np.random.randn(7)*5\n",
    "remainder, whole_part = np.modf(arr)\n",
    "print(remainder)\n",
    "print(whole_part)"
   ]
  },
  {
   "cell_type": "markdown",
   "metadata": {},
   "source": [
    "# 4.5 numpy的数据处理\n",
    "- 随机数组的生成\n",
    "- 可视化\n",
    "- 条件逻辑对数组进行处理\n",
    "- 描述性统计\n",
    "- 排序\n",
    "- 集合、唯一化\n",
    "- 存储和加载"
   ]
  },
  {
   "cell_type": "code",
   "execution_count": null,
   "metadata": {},
   "outputs": [],
   "source": [
    "points = np.arange(-5,5,0.01)     # -5,5 以0.01为间隔\n",
    "xs,ys = np.meshgrid(points,points) # 接受两个一维数组，产生两个二维数组\n",
    "z = np.sqrt(xs ** 2 + ys ** 2)\n",
    "print(z)"
   ]
  },
  {
   "cell_type": "code",
   "execution_count": null,
   "metadata": {},
   "outputs": [],
   "source": [
    "# 可视化\n",
    "plt.imshow(z,cmap=plt.cm.gray)\n",
    "plt.colorbar()\n",
    "plt.title('Image plot of $\\sqrt{x^2+y^2}$ for a grid of values')"
   ]
  },
  {
   "cell_type": "code",
   "execution_count": null,
   "metadata": {},
   "outputs": [],
   "source": [
    "# 条件逻辑表述为数组运算\n",
    "xarr = np.array([1.1, 1.2, 1.3, 1.4, 1.5])\n",
    "yarr = np.array([2.1, 2.2, 2.3, 2.4, 2.5])\n",
    "cond = np.array([True,False,True,True,False])\n",
    "# 列表推导式\n",
    "result = [(x if c else y)\n",
    "                for x,y,c in zip(xarr,yarr,cond)]\n",
    "print(result)\n",
    "# numpy函数\n",
    "result = np.where(cond,xarr,yarr) # 第一个参数是条件\n",
    "print(result) \n",
    "# np.where 也可以将数组中的元素按条件替换\n",
    "arr = np.random.randn(3,4)\n",
    "print(arr>0)\n",
    "result = np.where(arr>0,2,-2)  # 类似excel的if函数，是一种取值函数\n",
    "print(result)\n",
    "result = np.where(arr>0,2,arr) # 满足条件取2，不满足条件取arr中的值\n",
    "print(result)"
   ]
  },
  {
   "cell_type": "code",
   "execution_count": null,
   "metadata": {},
   "outputs": [],
   "source": [
    "# 统计方法\n",
    "# 既可以当作arr对象的一个方法也可以用np.mean这样的函数\n",
    "arr = np.random.randn(5,4)\n",
    "print(arr)\n",
    "print(arr.mean())\n",
    "print(np.mean(arr))\n",
    "# 这类函数可以接受一个axis参数做聚类\n",
    "print(arr.mean(axis=1)) # 列运算，沿轴方向运算\n",
    "print(arr.mean(axis=0)) # 行运算\n",
    "print(arr.sum(1))\n",
    "# 累加函数，不聚合，产生一个包含中间结果的数组\n",
    "arr = np.array([0,1,2,3,4,5,6,7,8,9])\n",
    "print(arr.cumsum())\n",
    "arr = np.array([[1,2,3],[4,5,6],[7,8,9]])\n",
    "print(arr.cumsum(axis=0))\n",
    "print(arr.cumprod(axis=1))\n"
   ]
  },
  {
   "cell_type": "code",
   "execution_count": null,
   "metadata": {},
   "outputs": [],
   "source": [
    "# 布尔型数组\n",
    "# 统计满足条件的元素个数\n",
    "arr  = np.random.randn(100)\n",
    "print((arr>0).sum())\n",
    "# any 至少一个满足条件\n",
    "# all 所有都满足条件\n",
    "bools = np.array([False,False,True,False])\n",
    "print(bools.any())\n",
    "print(bools.all())"
   ]
  },
  {
   "cell_type": "code",
   "execution_count": null,
   "metadata": {},
   "outputs": [],
   "source": [
    "# 排序\n",
    "arr = np.random.randn(6)\n",
    "print(arr)\n",
    "arr.sort()\n",
    "print(arr)\n",
    "arr = np.random.randn(3,4)\n",
    "print(arr)\n",
    "arr.sort(1)\n",
    "print(arr)\n",
    "# 分位数求法\n",
    "large_arr = np.random.randn(1000)\n",
    "large_arr.sort()\n",
    "large_arr[int(0.05*len(large_arr))]  # 5%分位数"
   ]
  },
  {
   "cell_type": "code",
   "execution_count": null,
   "metadata": {},
   "outputs": [],
   "source": [
    "# 集合-唯一化\n",
    "names = np.array(['Bob','Joe','Will','Bob','Will','Joe','Joe'])\n",
    "print(np.unique(names)) # numpy\n",
    "print(sorted(set(names))) # python\n",
    "# 检验数组中的元素是否在另一个数组中\n",
    "values = np.array([1,2,3,4,5,6,7,2])\n",
    "print(np.in1d(values,[2,3,6])) # x的元素是否包含于y\n",
    "print(np.intersect1d(values,[2,3,5])) # 交集\n",
    "print(np.union1d(values,[2,3,5,8])) # 并集\n",
    "print(np.setdiff1d(values,[2,3,5,8]))   # 差的集合\n",
    "print(np.setxor1d(values,[2,3,9,0]))  # 对称差，去掉交集部分"
   ]
  },
  {
   "cell_type": "code",
   "execution_count": null,
   "metadata": {},
   "outputs": [],
   "source": [
    "# 数组的保存和加载\n",
    "arr = np.random.randn(3,4)\n",
    "np.save('some_array',arr)\n",
    "arr_load = np.load('some_array.npy')\n",
    "print(arr_load)"
   ]
  },
  {
   "cell_type": "code",
   "execution_count": null,
   "metadata": {},
   "outputs": [],
   "source": [
    "# 多个数组的保存和加载，以关键字存储\n",
    "np.savez('arr_group.npz',a=arr,b=arr_load)\n",
    "group = np.load('arr_group.npz')\n",
    "print(group['a'])  # 类似字典\n",
    "# 如果要对数据进行压缩，可以使用savez_compressed函数"
   ]
  },
  {
   "cell_type": "markdown",
   "metadata": {},
   "source": [
    "# 4.6 numpy线性代数\n",
    " - 矩阵乘法\n",
    " - 矩阵分解QR SVD\n",
    " - 逆、行列式、特征值\n",
    " - 方程组"
   ]
  },
  {
   "cell_type": "code",
   "execution_count": null,
   "metadata": {},
   "outputs": [],
   "source": [
    "#  矩阵乘法\n",
    "x = np.array([[1,2,3],[4,5,6]])\n",
    "y = np.array([[2,3,4],[5,6,7],[6,7,8]])\n",
    "print(np.dot(x,y))\n",
    "print(x.dot(y))"
   ]
  },
  {
   "cell_type": "code",
   "execution_count": null,
   "metadata": {},
   "outputs": [],
   "source": [
    "# 矩阵分解、逆、行列式、方程组求解等\n",
    "from numpy.linalg import inv,qr,det\n",
    "\n",
    "X = np.random.randn(4,4)\n",
    "mat = X.T.dot(X)   # (X'X)\n",
    "A = inv(mat)  #(X'X)-1\n",
    "Q = A.dot(mat) \n",
    "P = A.dot(X.T)\n",
    "print(P)\n",
    "print(Q)\n",
    "# qr分解\n",
    "q,r= qr(mat)\n",
    "print(q)\n",
    "print(r)\n",
    "print(mat.trace())\n",
    "print(np.linalg.det(mat))"
   ]
  },
  {
   "cell_type": "markdown",
   "metadata": {},
   "source": [
    "# 4.7 伪随机数的生成\n",
    "- numpy适合生成大量样本"
   ]
  },
  {
   "cell_type": "code",
   "execution_count": null,
   "metadata": {},
   "outputs": [],
   "source": [
    "data = np.random.normal(size=(4,4))\n",
    "print(data)"
   ]
  },
  {
   "cell_type": "code",
   "execution_count": null,
   "metadata": {},
   "outputs": [],
   "source": [
    "# python生成10000个样本\n",
    "from random import normalvariate\n",
    "N=1000000\n",
    "samples = [normalvariate(0,1) for _ in range(N)]"
   ]
  },
  {
   "cell_type": "code",
   "execution_count": null,
   "metadata": {},
   "outputs": [],
   "source": [
    "# np生成100000个样本\n",
    "samples = np.random.normal(size=N)"
   ]
  },
  {
   "cell_type": "code",
   "execution_count": null,
   "metadata": {},
   "outputs": [],
   "source": [
    "# 伪随机数：根据随机数种子生成\n",
    "# 可以更改种子\n",
    "np.random.seed(1234)\n",
    "arr = np.random.randn(10)\n",
    "print(arr)\n",
    "np.random.seed(1233)\n",
    "arr = np.random.randn(10)\n",
    "print(arr)"
   ]
  },
  {
   "cell_type": "markdown",
   "metadata": {},
   "source": [
    "# 4.7 随机漫步实例"
   ]
  },
  {
   "cell_type": "code",
   "execution_count": null,
   "metadata": {},
   "outputs": [],
   "source": [
    "# 纯python语法\n",
    "import random \n",
    "\n",
    "position = 0\n",
    "walk = [position]\n",
    "steps = 1000\n",
    "for i in range(steps):\n",
    "    step = 1 if random.randint(0,1) else -1   # 0,1之间的整数只有0和1，其中0为false\n",
    "    position += step\n",
    "    walk.append(position)\n",
    "plt.plot(walk[:100])"
   ]
  },
  {
   "cell_type": "code",
   "execution_count": null,
   "metadata": {},
   "outputs": [],
   "source": [
    "# numpy计算累计和\n",
    "nsteps = 1000\n",
    "draws = np.random.randint(0,2,size=nsteps) #0-1的整数\n",
    "# print(draws)\n",
    "steps = np.where(draws>0,1,-1)\n",
    "walk = steps.cumsum()\n",
    "print(walk[:100])\n",
    "plt.plot(walk[:100])\n",
    "# 计算最大值和最小值\n",
    "minwalk = walk.min()\n",
    "maxwalk = walk.max()\n",
    "print(minwalk,maxwalk)\n",
    "# 计算首达时间：第一次走10步的索引\n",
    "t = (np.abs(walk)>=10).argmax()\n",
    "print(t)"
   ]
  },
  {
   "cell_type": "code",
   "execution_count": null,
   "metadata": {},
   "outputs": [],
   "source": [
    "# 模拟多个随机游走\n",
    "nwalks = 5000\n",
    "nsteps = 1000\n",
    "steps = np.random.randint(0,2,size=(nwalks,nsteps))\n",
    "steps = np.where(steps>0,1,-1)\n",
    "walk = np.cumsum(steps,axis=1)\n",
    "print(walk[:100])\n",
    "min_walk = walk.min()\n",
    "max_walk = walk.max()\n",
    "print(min_walk,max_walk)\n",
    "# 首达时间，对所有行进行检查？不，用any函数\n",
    "hits30 = (np.abs(walk)>=30).any(1) # 检查哪一行到达了30\n",
    "print(hits30)\n",
    "hist30.sum()\n",
    "# 计算首达时间\n",
    "crossing_times = (np.abs(walk[hits30])>=30).argmax(1)  #选取达到30的行数计算首达时间\n",
    "print(crossing_times)\n",
    "print(crossing_times.mean())  # 平均首达时间\n"
   ]
  }
 ],
 "metadata": {
  "language_info": {
   "name": "python"
  },
  "orig_nbformat": 4
 },
 "nbformat": 4,
 "nbformat_minor": 2
}
