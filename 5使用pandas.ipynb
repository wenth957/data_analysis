{
 "cells": [
  {
   "cell_type": "markdown",
   "metadata": {},
   "source": [
    "@[toc](pandas的学习)"
   ]
  },
  {
   "cell_type": "code",
   "execution_count": null,
   "metadata": {},
   "outputs": [],
   "source": [
    "import numpy as np\n",
    "import pandas as pd \n",
    "from pandas import Series, DataFrame\n",
    "import pandas_datareader.data as web"
   ]
  },
  {
   "cell_type": "markdown",
   "metadata": {},
   "source": [
    "#  5.1 Series数据\n",
    "- 索引\n",
    "- 运算：自动对齐\n",
    "- 缺失值、命名"
   ]
  },
  {
   "cell_type": "code",
   "execution_count": null,
   "metadata": {},
   "outputs": [],
   "source": [
    "# Series 由一维数据和索引组成如时间序列数据，索引为时间\n",
    "series1 = pd.Series([1,3,5,7])\n",
    "print(series1)\n",
    "# 自定义索引\n",
    "series2 =pd.Series([1,3,4,6],index=['a','b','c','d'])\n",
    "series2\n",
    "series2.index\n",
    "# 通过索引的方式选取Series中的值\n",
    "value1 = series2['c']\n",
    "value2 = series2[['a','d','b']]\n",
    "value2"
   ]
  },
  {
   "cell_type": "code",
   "execution_count": null,
   "metadata": {},
   "outputs": [],
   "source": [
    "# Series的运算：类似numpy\n",
    "series3 = series2[series2>5]\n",
    "print(series3)\n",
    "series4 = series2*2\n",
    "print(series4)\n",
    "series5 = np.exp(series2)\n",
    "print(series5)"
   ]
  },
  {
   "cell_type": "code",
   "execution_count": null,
   "metadata": {},
   "outputs": [],
   "source": [
    "# 可以将series看作一个有序字典\n",
    "# 可以用字典来创建series\n",
    "print('a' in series2)\n",
    "sdata = {'zhao':1000,'qian':2000,'sun':3000,'zhou':4000}\n",
    "series6 = pd.Series(sdata)\n",
    "print(series6)\n",
    "# 同时可以指定索引，将字典的键按想要的顺序排列即可\n",
    "keys = ['sun','zhao','qian','li']\n",
    "series7 = pd.Series(sdata,index=keys) # 不是键的keys值为NaN\n",
    "# 是键但没有包含在keys的直接删去，不再序列中体现\n",
    "series7"
   ]
  },
  {
   "cell_type": "code",
   "execution_count": null,
   "metadata": {},
   "outputs": [],
   "source": [
    "# 缺失数据\n",
    "pd.isnull(series7) #pd中的函数\n",
    "pd.notnull(series7)\n",
    "series7.isnull()  # series实例的方法\n",
    "series7.notnull()\n",
    "# pd根据索引自动对齐数据\n",
    "result = series6+series7\n",
    "print(result)  # 只要有一处是缺失值，那么加起来也是缺失值\n",
    "# name属性\n",
    "series7.name = 'salary' # 序列名称\n",
    "series7.index.name  = 'name'\n",
    "series7"
   ]
  },
  {
   "cell_type": "markdown",
   "metadata": {},
   "source": [
    "# 5.2 DataFrame创建\n",
    "- 一组有序列：行索引+列索引，series组成的字典\n",
    "- 一般是一个或多个二维块"
   ]
  },
  {
   "cell_type": "code",
   "execution_count": null,
   "metadata": {},
   "outputs": [],
   "source": [
    "# 创建DataFrame 一般是直接传入一个由列表或数组组成的字典\n",
    "data = {\n",
    "    'state':['ohio','ohio','Nevada','Neveda','Nevada','wang'],   # 必须等长\n",
    "    'year':[2000,2001,2002,2003,2003,2004],\n",
    "    'pop': [1.5,1.7,3.6,2.4,2.9,3.0]\n",
    "}\n",
    "frame  = pd.DataFrame(data)\n",
    "frame"
   ]
  },
  {
   "cell_type": "code",
   "execution_count": null,
   "metadata": {},
   "outputs": [],
   "source": [
    "#预览DataFrame  head() tail()\n",
    "frame.head()"
   ]
  },
  {
   "cell_type": "code",
   "execution_count": null,
   "metadata": {},
   "outputs": [],
   "source": [
    "frame.tail()"
   ]
  },
  {
   "cell_type": "code",
   "execution_count": null,
   "metadata": {},
   "outputs": [],
   "source": [
    "# 如果制定了列序列，DataFrame可自定义排序\n",
    "df = pd.DataFrame(data,columns=['year','state','pop'])\n",
    "df"
   ]
  },
  {
   "cell_type": "code",
   "execution_count": null,
   "metadata": {},
   "outputs": [],
   "source": [
    "# 类似于series，如果传入的列在数据中找不到，就会产生缺失值\n",
    "frame2 = pd.DataFrame(data,columns=['year','state','pop','debt'],index=['one','two','three','four', 'five','six'])\n",
    "print(frame2.columns)\n",
    "print(frame2)\n",
    "# 从dataframe中获取序列 类似字典或属性的方式\n",
    "print(frame2.year)   # 要符合python命名特征\n",
    "print(frame2['pop']) # 实用性更强\n",
    "# 列的值可以通过赋值的方式修改\n",
    "frame2['debt'] = 14.1\n",
    "print(frame2)\n",
    "frame2['debt'] = np.arange(6.0)  # np中可以加小数  range只能是整数\n",
    "print(frame2)\n",
    "# 通过索引返回的列是数据的视图，并不是副本，因此修改后将直接反映在原数据上\n",
    "# del可以删除某列\n",
    "# 首先创建一列包含布尔值\n",
    "frame2['eastern'] = frame2.state == 'ohio'\n",
    "print(frame2)\n",
    "del frame2['eastern']\n",
    "print(frame2)"
   ]
  },
  {
   "cell_type": "code",
   "execution_count": null,
   "metadata": {},
   "outputs": [],
   "source": [
    "# 另一种DataFrame创建格式\n",
    "# 传入嵌套字典\n",
    "pop = {\n",
    "    'Nevada':{2001:2.4,2002:2.9},\n",
    "    'ohio':{2000:1.5,2001:1.7,2002:3.6}\n",
    "}\n",
    "frame3 = pd.DataFrame(pop)\n",
    "print(frame3) # 内层的键作为行，外层的键作为列\n",
    "# 内层字典的键会形成索引"
   ]
  },
  {
   "cell_type": "code",
   "execution_count": null,
   "metadata": {},
   "outputs": [],
   "source": [
    "# 也可以指定索引行\n",
    "df = pd.DataFrame(pop,index=[2001,2002,2003])\n",
    "print(df)\n",
    "# dataframe的转置\n",
    "print(frame3.T)"
   ]
  },
  {
   "cell_type": "code",
   "execution_count": null,
   "metadata": {},
   "outputs": [],
   "source": [
    "# 字典也可以由series组成\n",
    "pdata = {\n",
    "    'ohio': frame3['ohio'][:-1],\n",
    "    'Nevada': frame3['Nevada'][:2]\n",
    "}\n",
    "df = pd.DataFrame(pdata)\n",
    "print(df)"
   ]
  },
  {
   "cell_type": "code",
   "execution_count": null,
   "metadata": {},
   "outputs": [],
   "source": [
    "# 字典的列表:与嵌套字典正好相反 属于没有指定行索引\n",
    "sdata = [{\n",
    "    'name': 'wang',\n",
    "    'age':12},{\n",
    "        'name':'liu',\n",
    "        'age':22\n",
    "    }]\n",
    "df = pd.DataFrame(sdata)\n",
    "print(df)"
   ]
  },
  {
   "cell_type": "markdown",
   "metadata": {},
   "source": [
    "# 总结： 创建方法\n",
    "- 二维数组\n",
    "- 由数组、列表、元组、series组成的字典，每个元素变成一列\n",
    "- 嵌套字典，内层字典成为1列，键被合并成行索引\n",
    "- 字典或series的列表 ：各项称为DF的一行，字典键和索引称为列表\n",
    "- 字典、元组组成的列表\n",
    "- 另一个DF"
   ]
  },
  {
   "cell_type": "code",
   "execution_count": null,
   "metadata": {},
   "outputs": [],
   "source": [
    "# 设置行索引名，列索引名\n",
    "df.index.name = 'year'\n",
    "df.columns.name='features'\n",
    "print(df)\n",
    "print(df.values) # 会以数组形式返回\n",
    "frame2.values # 如果包含很多类型数据，会指定一种兼容的数据类型"
   ]
  },
  {
   "cell_type": "markdown",
   "metadata": {},
   "source": [
    "# 5.3 索引对象\n",
    "- pandas用index对象来定义轴标签和轴名称等数据\n",
    "- 用到的数组或序列的标签都会转换成index对象\n",
    "- 索引对象确定后不可修改\n",
    "- 可使用python集合的方法"
   ]
  },
  {
   "cell_type": "code",
   "execution_count": null,
   "metadata": {},
   "outputs": [],
   "source": [
    "obj = pd.Series(range(3),index=['a','b','c'])\n",
    "index = obj.index\n",
    "index[1:]"
   ]
  },
  {
   "cell_type": "code",
   "execution_count": null,
   "metadata": {},
   "outputs": [],
   "source": [
    "# 索引对象确定后不可修改\n",
    "# index[1] = 'd'\n",
    "# TypeError: Index does not support mutable operations\n",
    "# 可以自行创建索引然后在不同DF中使用 \n",
    "labels = pd.Index(np.arange(3))\n",
    "labels\n",
    "obj2  = pd.Series([1.5,-2.5,0],index=labels)\n",
    "obj2.index is labels\n",
    "frame3\n",
    "frame3.columns"
   ]
  },
  {
   "cell_type": "code",
   "execution_count": null,
   "metadata": {},
   "outputs": [],
   "source": [
    "# 类似于python集合运算，但可以包含相同元素\n",
    "labels_index = pd.Index(['foo','foo','bar','bar'])\n",
    "labels1 = labels_index.append(labels) # 添加到另一个index对象中\n",
    "print(labels1)\n",
    "labels2 = labels1.difference(labels_index) # 差集\n",
    "print(labels2)\n",
    "labels3 = labels1.intersection(labels) #交集\n",
    "print(labels3)\n",
    "# union并 \n",
    "labels3.delete(2)  # 删除索引\n",
    "labels3.drop(1)   # 删除值\n",
    "# insert 插入值到索引i处\n",
    "# unique计算唯一集合"
   ]
  },
  {
   "cell_type": "markdown",
   "metadata": {},
   "source": [
    "# 5.4 pandas基本功能\n",
    "- 重新索引：不论原索引是什么，直接找感兴趣的数据\n",
    "- 移除某项数据：默认行，可以更换轴\n",
    "- 序列、DF的索引、切片\n",
    "- 标签运算符\n",
    "- 整数索引的注意事项：[-1]\n",
    "- 索引对齐与算数运算方法\n",
    "- Series与DF之间的运算：所有行、所有列、广播\n",
    "- 函数应用"
   ]
  },
  {
   "cell_type": "code",
   "execution_count": null,
   "metadata": {},
   "outputs": [],
   "source": [
    "obj = pd.Series([4.5,7.2,5.3,3.6],index=['d','b','a','c'])\n",
    "print(obj)\n",
    "# reindex重新索引\n",
    "obj2 = obj.reindex(['a','b','c','d','e']) \n",
    "print(obj2)\n",
    "# 时间序列的插值处理\n",
    "obj3 = pd.Series(['blue','purple','yellow'],index=[0,2,4])\n",
    "print(obj3)\n",
    "obj3.reindex(range(6),method='ffill')\n",
    "print(obj3)  #ffill不会对原来对象进行修改 index会改变原来数据视图\n",
    "print(obj3.reindex(range(6),method='ffill'))"
   ]
  },
  {
   "cell_type": "code",
   "execution_count": null,
   "metadata": {},
   "outputs": [],
   "source": [
    "# 对于DataFrame类似\n",
    "df = pd.DataFrame(np.arange(9).reshape((3,3)),index=['a','b','c'],columns=['ohio','california','texas'])\n",
    "print(df)\n",
    "df1 = df.reindex(['a','b','c','d'])\n",
    "print(df1)\n",
    "# colums也可以重新索引\n",
    "states = ['ohio','utah','california']\n",
    "df2 = df.reindex(columns=states)\n",
    "print(df2)"
   ]
  },
  {
   "cell_type": "code",
   "execution_count": null,
   "metadata": {},
   "outputs": [],
   "source": [
    "# 丢弃某个轴上的项：序列\n",
    "obj = pd.Series(np.arange(5.),index=['a','b','c','d','e'])\n",
    "print(obj)\n",
    "obj1 = obj.drop('c')\n",
    "print(obj1)\n",
    "obj2 = obj.drop(['b','c'])  # 作为列表传入参数\n",
    "print(obj2)\n",
    "# DataFrame\n",
    "df1 = pd.DataFrame(\n",
    "    np.arange(16).reshape(4,4),\n",
    "    index = ['ojio','colorado','utah','newyork'],\n",
    "    columns=['one','two','three','four']\n",
    ")\n",
    "print(df1)\n",
    "df2 = df1.drop(['colorado','utah']) # 默认是索引,存储的drop对象\n",
    "print(df2)\n",
    "print(df1)\n",
    "df3 = df1.drop(['one','three'],axis=1) #固定轴方向，可以删除列\n",
    "df4 = df1.drop(['two','four'],axis='columns') # 等价操作\n",
    "print(df3)  \n",
    "print(df4)\n",
    "# drop函数的inplace参数可以对原始数据进行操作\n",
    "df5 = df1.drop(['colorado','utah'],inplace=True)\n",
    "print(df5)  # 返回的是删掉的对象\n",
    "print(df1) #对原始数据进行了改变，删除了部分数据，谨慎使用"
   ]
  },
  {
   "cell_type": "code",
   "execution_count": null,
   "metadata": {},
   "outputs": [],
   "source": [
    "# 序列索引\n",
    "obj = pd.Series(np.arange(4.0),index=['a','b','c','d'])\n",
    "print(obj['b'])\n",
    "print(obj[['b','d']])\n",
    "print(obj[[2,3]])\n",
    "print(obj[obj<2])\n",
    "# 序列切片\n",
    "print(obj['b':'d'])  # 与python不同末端是包含的\n",
    "print(obj[2:3])  # python\n",
    "obj[2:3] =5   #python\n",
    "print(obj)"
   ]
  },
  {
   "cell_type": "code",
   "execution_count": null,
   "metadata": {},
   "outputs": [],
   "source": [
    "# DataFrame索引、切片\n",
    "df1 = pd.DataFrame(\n",
    "    np.arange(16).reshape((4,4)),\n",
    "    index=['wang','liu','zhao','qian'],\n",
    "    columns=['one','two','three','four'])\n",
    "print(df1['one'])\n",
    "print(df1[['one','four']])\n",
    "print(df1[:2])\n",
    "print(df1[df1['three']>5])  #>5的所有行，类似excel\n",
    "# 布尔值\n",
    "df1[df1<5] = 0 # 直接对df1进行修改\n",
    "print(df1)\n",
    "# 标签运算符loc和iloc\n",
    "df1.loc['wang',['one','three']] # 类似numpy 选取行和列\n",
    "df1.loc[['wang','zhao'],['one','two']] # 选取子矩阵\n",
    "df1.iloc[2,[3,0,1]]  # 按整数索引选取\n",
    "df1.iloc[:,:3]      # 类似numpy\n",
    "# 选取某一位置标量\n",
    "df1.at['wang','one'] #必须输入标签\n",
    "df1.iat[0,0] # 输入整数索引"
   ]
  },
  {
   "cell_type": "code",
   "execution_count": null,
   "metadata": {},
   "outputs": [],
   "source": [
    "# 整数索引容易出错\n",
    "ser1 = pd.Series(np.arange(3.0))\n",
    "ser1\n",
    "ser1[1]   #会报错，与列表和元组索引语法不同\n",
    "# 采用非整数的索引\n",
    "ser1.index=['a','b','c']\n",
    "ser1\n",
    "ser1[-1] # 可以正常索引\n",
    "# 所以一般使用iloc进行索引\n",
    "ser1.index=[0,1,2]\n",
    "ser1\n",
    "ser1.loc[:1] #按标签索引是 0和1的index\n",
    "ser1.iloc[:1] # 按python索引进行索引 0的index"
   ]
  },
  {
   "cell_type": "code",
   "execution_count": null,
   "metadata": {},
   "outputs": [],
   "source": [
    "# 索引对齐\n",
    "# 索引为并集，但是值：算数运算NaN +num = NaN\n",
    "s1  = pd.Series([7.3,-2.5,3.4, 1.5],index=['a','c','d','e'])\n",
    "s2 = pd.Series([-2.1,3.6,-1.5,4,3.1],index = ['a','c','e','f','g'])\n",
    "s1\n",
    "s2\n",
    "s1+s2\n",
    "# 对于DataFrame对齐会发生在行和列上\n",
    "df1 = pd.DataFrame(\n",
    "    np.arange(9.0).reshape((3,3)),columns=list('bcd'),\n",
    "    index = ['ohio','texas','colorado']\n",
    ")\n",
    "df2 = pd.DataFrame(\n",
    "    np.arange(12.0).reshape((4,3)),columns=list('bde'),\n",
    "    index= ['utah', 'ohio','texas','oregon']\n",
    "\n",
    ")\n",
    "df1\n",
    "df2\n",
    "df1+df2\n",
    "# 索引并但是值为交\n",
    "# 若没有公用的行和列标签，那么结果为空\n",
    "df3  = pd.DataFrame({'A':[1,2]})\n",
    "df4 = pd.DataFrame({'B':[3,4]})\n",
    "df3\n",
    "df4\n",
    "df3+df4"
   ]
  },
  {
   "cell_type": "code",
   "execution_count": null,
   "metadata": {},
   "outputs": [],
   "source": [
    "# DataFrame的算数方法\n",
    "# 使用add方法，缺少索引时以0填充\n",
    "df1 = pd.DataFrame(\n",
    "    np.arange(12.0).reshape((3,4)),\n",
    "    columns=list('abcd'))\n",
    "df2 = pd.DataFrame(\n",
    "    np.arange(16.0).reshape((4,4)),\n",
    "    columns= list('bcde')\n",
    ")\n",
    "print(df1)\n",
    "print(df2)\n",
    "df1+df2\n",
    "df1.add(df2,fill_value=0) # 解决不了两个都有缺失值的问题\n",
    "df1.radd(df2,fill_value=0) # 逆方法radd\n",
    "df1.sub(df2,fill_value=0)  #减法df1-df2\n",
    "df1.rsub(df2,fill_value=0) #逆减法 df2-df1\n",
    "# div  rdiv 除法   floordiv rfloordiv整除 mul rmul乘法  pow,rpow乘方\n",
    "# 重新索引\n",
    "df1.reindex(columns=df2.columns,fill_value=0)"
   ]
  },
  {
   "cell_type": "code",
   "execution_count": null,
   "metadata": {},
   "outputs": [],
   "source": [
    "# DataFrame与Series之间的运算:默认匹配列对行运算\n",
    "# 二维数组与其某行之间的差\n",
    "arr  = np.arange(12.).reshape((3,4))\n",
    "print(arr)\n",
    "arr[0]\n",
    "arr-arr[0] # 每一行都会执行这一操作：广播\n",
    "# DataFrame与Series\n",
    "df1 = pd.DataFrame(\n",
    "    np.arange(12.).reshape((4,3)),\n",
    "    columns=list('abc'),\n",
    "    index= ['utah','ohio','texas','oregon']\n",
    "    )\n",
    "series1 = df1.iloc[0]\n",
    "print(df1)\n",
    "series1\n",
    "# 默认情况下，算数运算会将series的索引匹配到列，对每一行进行运算\n",
    "df1 - series1\n",
    "# 如果某个索引在DataFrame或series中不存在，则索引会形成并集\n",
    "series2 = pd.Series(range(3),index=list('acd'))\n",
    "df1 - series2"
   ]
  },
  {
   "cell_type": "code",
   "execution_count": null,
   "metadata": {},
   "outputs": [],
   "source": [
    "# 对行进行匹配对列运算需要用到函数方法\n",
    "series3 = df1['a']\n",
    "print(df1)\n",
    "series3\n",
    "df1.sub(series3,axis='index') # 传入希望匹配的轴索引\n"
   ]
  },
  {
   "cell_type": "code",
   "execution_count": null,
   "metadata": {},
   "outputs": [],
   "source": [
    "# 函数应用\n",
    "# abs\n",
    "df  = pd.DataFrame(\n",
    "    np.random.randn(4,3),columns=list('bde'),\n",
    "    index = ['utah','hoio','texas','oregon']\n",
    ")\n",
    "print(df)\n",
    "np.abs(df) #可以用numpy的函数方法"
   ]
  },
  {
   "cell_type": "code",
   "execution_count": null,
   "metadata": {},
   "outputs": [],
   "source": [
    "# 将函数应用到各行或各列上形成一维数组：取每列的极值\n",
    "f = lambda x: x.max() - x.min()\n",
    "df.apply(f)\n",
    "# 设置运算轴为columns\n",
    "df.apply(f,axis='columns')\n",
    "f  = lambda x: x.sum()\n",
    "df.apply(f,axis='index') #sum mean 都很容易实现\n",
    "# f 也可以是返回Series的函数\n",
    "\n",
    "\n",
    "def  f(x):\n",
    "    return pd.Series([x.min(),x.max()],index=['min','max'])\n",
    "\n",
    "df.apply(f)   # 这样可以编写描述性统计函数"
   ]
  },
  {
   "cell_type": "code",
   "execution_count": null,
   "metadata": {},
   "outputs": [],
   "source": [
    "# 元素级别的函数\n",
    "f_str = lambda x: '%.2f' % x   # 得到格式化字符串\n",
    "df.applymap(f_str) # 对所有元素的运算\n",
    "df['e'].map(f_str)"
   ]
  },
  {
   "cell_type": "code",
   "execution_count": null,
   "metadata": {},
   "outputs": [],
   "source": [
    "# 排序\n",
    "# 对索引排序\n",
    "ser1 = pd.Series(range(4),index=['d','a','b','c'])\n",
    "print(ser1)\n",
    "ser1.sort_index()\n",
    "df  = pd.DataFrame(\n",
    "    np.arange(8).reshape(2,4),index=['three','one'],\n",
    "    columns=['d','a','b','c'])\n",
    "print(df)\n",
    "df.sort_index()\n",
    "df.sort_index(1)\n",
    "df.sort_index(ascending=False)  # 上述都是默认升序排序，也可以降序排序\n",
    "df.sort_index(axis=1,ascending=False)\n",
    "# 对值排序\n",
    "ser1.sort_values(ascending=False)\n",
    "df.sort_values(by='b') #按某一列排序\n",
    "df1 = pd.DataFrame({\n",
    "    'b':[1,2,3,1],'c':[-2,-4,2,3]\n",
    "})\n",
    "df2 = df1.sort_values(by=['b','c'],ascending=[False,False])  # 当b列相同时，c列采用降序排列\n",
    "df3 = df1.sort_values(by='b',ascending=False)   # 通常使用这个，结果和上面时不同的\n",
    "print(df2)\n",
    "print(df3)"
   ]
  },
  {
   "cell_type": "code",
   "execution_count": null,
   "metadata": {},
   "outputs": [],
   "source": [
    "# 排名 rank方法\n",
    "# 按照值得大小给一个排名，相同值为平均排名\n",
    "ser1 = pd.Series([7,-5,7,4,2,0,4])\n",
    "ser1.rank()\n",
    "# 相同值出现顺序排名\n",
    "ser1.rank(method='first')\n",
    "# 降序\n",
    "ser1.rank(ascending=False,method='max') # 相同值取大的排名\n",
    "# min取最小的排名\n"
   ]
  },
  {
   "cell_type": "code",
   "execution_count": null,
   "metadata": {},
   "outputs": [],
   "source": [
    "# 重复标签的索引\n",
    "series = pd.Series(range(5),index=['a','a','b','b','c'])\n",
    "series\n",
    "series.index.is_unique  #is_unique属性\n",
    "# 重复标签的索引返回一个series\n",
    "series['a']\n",
    "# 这样会使索引结果的数据类型不唯一，给数据处理带来困难\n",
    "# 通常假定索引不重复，对于DataFrame也是如此\n",
    "df = pd.DataFrame(np.random.randn(4,3),index=['a','a','b','b'])\n",
    "df\n",
    "df.loc['a'] #默认按列索引，加上loc可以像numpy一样索引"
   ]
  },
  {
   "cell_type": "markdown",
   "metadata": {},
   "source": [
    "# 5.5 描述性统计\n",
    "- 基于没有缺失数据的假设"
   ]
  },
  {
   "cell_type": "code",
   "execution_count": null,
   "metadata": {},
   "outputs": [],
   "source": [
    "df = pd.DataFrame([[1.4,np.nan],[7.1,-4.5],[np.nan,np.nan],[0.75,-1.3]],index=['a','b','c','d'],columns = ['one','two'])\n",
    "print(df)   # 二维数组按照原来的格式添加标签\n",
    "df.sum() # 返回每列的和，series\n",
    "df.sum(axis=1) # 返回每行的和,默认会忽略na\n",
    "df.mean(axis='columns',skipna=False) #设置为false之后，只要有一个na就会是na\n",
    "# 层次化索引：可以在一个轴上定义多个索引 index=[['a','a','a','b',b',b','c','c','c','d','d','d'],[1,2,3,1,2,3,1,2,3]]     描述性统计函数利用level参数分组\n",
    "# 返回索引\n",
    "df.idxmax() # 每一列的最大值对应的行列索引\n",
    "# 累加\n",
    "df.cumsum()\n",
    "# 一次性产生多个汇总\n",
    "df.describe()  \n",
    "# 对于非数值的数据\n",
    "df1 = pd.Series(['a','a','b','c']*4)\n",
    "df1.describe()\n",
    "# 描述性统计方法汇总\n",
    "# count  样本数量\n",
    "# describe Series或describe列汇总数据\n",
    "# argmin argmax计算整数索引位置\n",
    "# idxmin idxmax 计算索引值位置\n",
    "# quantile 计算分位数（0，1）\n",
    "# sum\\mean\\median\n",
    "# mad 绝对离差\n",
    "# var/std/skew/kurt\n",
    "# cumsum/cummin/cummax/cumprod\n",
    "# diff 一阶差分\n",
    "# pct_change 百分比变化"
   ]
  },
  {
   "cell_type": "code",
   "execution_count": null,
   "metadata": {},
   "outputs": [],
   "source": [
    "# # 相关系数和协方差\n",
    "# all_data = {\n",
    "#     ticker:web.get_data_yahoo(ticker)\n",
    "#     for ticker in ['AAPL','IBM','MSFT','GOOG']  # 字典生成器\n",
    "# }\n",
    "# price = pd.DataFrame(\n",
    "#     {ticker:data['Adj Close']\n",
    "#     for ticker,data  in all_data.items()}\n",
    "# )\n",
    "# volumn = pd.DataFrame(\n",
    "#     {ticker:data['Volumn']\n",
    "#     for ticker,data in all_data.items()}\n",
    "# )\n",
    "# returns = price.pct_change()\n",
    "# returns.tail()\n",
    "# returns['MSFT'].corr(returns['AAPL'])\n",
    "# returns.MSFT.corr(returns['AAPL'])\n",
    "# returns['MSFT'.cov(returns['AAPL'])]\n",
    "# returns.corr()\n",
    "# retunrs.cov()\n",
    "# # 也可以传入别的序列\n",
    "# returns.corrwith(returns.IBM)\n",
    "# 传入dataframe 计算同列名的相关系数\n",
    "# returns.corrwith(volumn)"
   ]
  },
  {
   "cell_type": "code",
   "execution_count": null,
   "metadata": {},
   "outputs": [],
   "source": [
    "# 唯一值、频数、成员资格\n",
    "obj = pd.Series(['c','a','d','a','a','b','b','c','c'])\n",
    "# 唯一值\n",
    "uniques = obj.unique()\n",
    "uniques.sort()  # 直接对原序列操作\n",
    "uniques\n",
    "# 频数\n",
    "obj.value_counts() # 各个值得频数\n",
    "pd.value_counts(obj.values,sort=False) #可用于任何数组和序列\n",
    "# 成员资格 isin\n",
    "mask = obj.isin(['b','c']) \n",
    "mask  # 相当于if语句，等于则返回T，否则F\n",
    "obj[mask]\n",
    "# 给出一个数组各值到另一个数组的整数索引 Index(unique).get_indexer(match)\n",
    "to_match = pd.Series(['c','a','b','b','c','a'])\n",
    "unique_vals = pd.Series(['c','b','a'])\n",
    "pd.Index(unique_vals).get_indexer(to_match)\n",
    "# 类似与match函数"
   ]
  },
  {
   "cell_type": "code",
   "execution_count": null,
   "metadata": {},
   "outputs": [],
   "source": [
    "data = pd.DataFrame(\n",
    "    {'Qu1':[1,3,4,3,4],\n",
    "    'Qu2': [2,3,1,2,3],\n",
    "    'Qu3':[1,5,2,4,4]}\n",
    ")\n",
    "print(data)\n",
    "result = data.apply(pd.value_counts).fillna(0)   # 频数\n",
    "print(result)"
   ]
  }
 ],
 "metadata": {
  "language_info": {
   "name": "python"
  },
  "orig_nbformat": 4
 },
 "nbformat": 4,
 "nbformat_minor": 2
}
